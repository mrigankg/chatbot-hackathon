{
  "nbformat": 4,
  "nbformat_minor": 0,
  "metadata": {
    "colab": {
      "provenance": [],
      "collapsed_sections": [
        "48cT_Ybr818p"
      ]
    },
    "kernelspec": {
      "display_name": "Python 3",
      "language": "python",
      "name": "python3"
    },
    "language_info": {
      "codemirror_mode": {
        "name": "ipython",
        "version": 3
      },
      "file_extension": ".py",
      "mimetype": "text/x-python",
      "name": "python",
      "nbconvert_exporter": "python",
      "pygments_lexer": "ipython3",
      "version": "3.5.0"
    }
  },
  "cells": [
    {
      "cell_type": "markdown",
      "metadata": {
        "id": "sCfzqHTCh9la"
      },
      "source": [
        "# Advanced Certification in AIML\n",
        "## A Program by IIIT-H and TalentSprint"
      ]
    },
    {
      "cell_type": "markdown",
      "metadata": {
        "id": "ZWC6jnVaPn-a"
      },
      "source": [
        "## Problem Statement"
      ]
    },
    {
      "cell_type": "markdown",
      "metadata": {
        "id": "TUMw8NlY9UAc"
      },
      "source": [
        "Build a conversational bot to interact with the user using 2 approaches (Alexa Chatbot and Python Chatbot) for the given skill and achieve desired outcomes through the conversation."
      ]
    },
    {
      "cell_type": "markdown",
      "metadata": {
        "id": "YiQpi0NQjb6T"
      },
      "source": [
        "### It is recommended to watch the chatbot code explanation video before start working on the Hackathon"
      ]
    },
    {
      "cell_type": "code",
      "metadata": {
        "id": "0IfX7sjUjheb",
        "cellView": "form",
        "colab": {
          "base_uri": "https://localhost:8080/",
          "height": 501
        },
        "outputId": "eb8c0f75-915c-4b82-9934-1a696e80545b"
      },
      "source": [
        "#@title Chatbot Code Explanation Video\n",
        "from IPython.display import HTML\n",
        "\n",
        "HTML(\"\"\"<video width=\"854\" height=\"480\" controls>\n",
        "  <source src=\"https://cdn.iiith.talentsprint.com/aiml/Experiment_related_data/Walkthrough/b17_hackathon_1_chatbot_walkthrough.mp4\" type=\"video/mp4\">\n",
        "</video>\n",
        "\"\"\")"
      ],
      "execution_count": null,
      "outputs": [
        {
          "output_type": "execute_result",
          "data": {
            "text/plain": [
              "<IPython.core.display.HTML object>"
            ],
            "text/html": [
              "<video width=\"854\" height=\"480\" controls>\n",
              "  <source src=\"https://cdn.iiith.talentsprint.com/aiml/Experiment_related_data/Walkthrough/b17_hackathon_1_chatbot_walkthrough.mp4\" type=\"video/mp4\">\n",
              "</video>\n"
            ]
          },
          "metadata": {},
          "execution_count": 20
        }
      ]
    },
    {
      "cell_type": "markdown",
      "metadata": {
        "id": "kyAh93c0gHVy"
      },
      "source": [
        "## Skill to be developed as per the intents allocation\n",
        "\n",
        "**Zodiac Sign:** The bot should give the Zodiac Sign of the user, based on the date of birth (day, month and year) provided by the user **(This intent is common for everyone)**\n",
        "\n",
        "**Suggest a Movie:** The bot should suggest a movie based on user preferences: Language, Actor, Genre and other details\n",
        "\n",
        "**Find the Restaurant:**  Find the restaurants based on Cuisine, Cost type (cheap, medium, expensive), location and other parameters\n",
        "\n",
        "**Suggest a Book:** The bot should suggest the book based on user preferences: Author, language, genre and other parameters\n",
        "\n",
        "**Recommend a Store:** The bot should search a store based on preferences: Store type (medical clinics, food store, dry cleaning and more), location, availability (Open, Close) and other parameters\n",
        "\n",
        "Teams will be creating a conversational chatbot for the intents allocated to them\n",
        "\n",
        "> Team A =\tGroup\t\t1, 5, 9, 13, 17, 21  => Suggest a Movie & Zodiac Sign\n",
        "\n",
        "> Team B =  Group   2, 6, 10, 14, 18, 22 => Find a Restaurant & Zodiac Sign\n",
        "\n",
        "> Team C =  Group   3, 7, 11, 15, 19, 23  => Suggest a Book & Zodiac Sign\n",
        "\n",
        "> Team D =  Group   4, 8, 12, 16, 20, 24 =>  Recommend a Store & Zodiac Sign"
      ]
    },
    {
      "cell_type": "markdown",
      "metadata": {
        "id": "0cbdKF1E-0lt"
      },
      "source": [
        "* For Zodiac sign Intent, all the required utterances, slots and params (JSON) files are provided for your reference. A csv file is also provided to perform the action\n",
        "\n",
        "\n",
        "* For the another allocated intent, create all the required files (utterances, slots and params) and perform the action by creating a csv file."
      ]
    },
    {
      "cell_type": "markdown",
      "metadata": {
        "id": "BNQWDhx7GGNh"
      },
      "source": [
        "# Alexa Chatbot (Total Marks = 20)"
      ]
    },
    {
      "cell_type": "markdown",
      "metadata": {
        "id": "QZ43g3WCTAQv"
      },
      "source": [
        "**Note:**\n",
        "- Complete all of the tasks mentioned below from the [link](https://developer.amazon.com/alexa/console/ask) to work on the Alexa chatbot.\n",
        "- Go through the Pre-Hackathon for Alexa ChatBot material to understand Alexa Chatbot’s code and it's architecture.\n",
        "\n",
        "### **Criteria for evaluation**\n",
        "\n",
        "**Task1 (2Marks)** - Create a skill and provide intents based on team allocation\n",
        "- **Note:** You should create multiple intents under one skill, so that you can use that skill for testing\n",
        "\n",
        "**Task2 (4Marks)** - Create at least 50 utterances for each intent\n",
        "\n",
        "**Task3 (2Marks)** - Create at least 3 slots with the slot types for each intent\n",
        "- Hint: [Slot type references](https://developer.amazon.com/en-US/docs/alexa/custom-skills/slot-type-reference.html#list-slot-types)\n",
        "\n",
        "**Task4 (4Marks)** - Create a database with all possible combinations of all attributes (can be a CSV ﬁle) along with possible outcome for each combination. This database will be used for performing an action. Minimum 10 combinations\n",
        "  - Create a CSV file for the allocated intent other than Zodiac sign\n",
        "\n",
        "**Task5 (4Marks)** - Update the lambda_function.py and requirements.txt in the Code section - Refer PRE-HACKATHON Alexa ChatBot material\n",
        "\n",
        "\n",
        "**Task6 (4Marks)** - Run and test the Alexa chatbot for both the intents with the following:\n",
        "  - Alexa Chatbot should identify the user requirement.\n",
        "  - Gather the data from user input and get the relevant output.\n",
        "  - It should prompt the user with different prompts if the required input is not fulfilled.\n",
        "  - It should shift between the intents and maintain the dialogue flow.\n"
      ]
    },
    {
      "cell_type": "markdown",
      "metadata": {
        "id": "OQ5D6hR6hiTZ"
      },
      "source": [
        "# Python Chatbot (Total Marks = 20)"
      ]
    },
    {
      "cell_type": "markdown",
      "metadata": {
        "id": "KPBwZyi1hwuF"
      },
      "source": [
        "**Note:** Complete all of the tasks mentioned below in this colab notebook to work on the Python chatbot.\n",
        "\n",
        "### **Criteria for evaluation**\n",
        "\n",
        "**Task1 (6Marks)** - Create .dat files for your intent (as the .dat files of Zodiac intent is already provided) based on the team allocation. Also, configure file in the params folder (Refer the given zodiac sign file for more information).\n",
        "\n",
        "   * Give minimum 50 utterances for each intent. Give the details in the **intent folder** -> *intent_name.dat* file. (Hint: You can use the same utterances which was created for Alexa chatbot)\n",
        "\n",
        "   * Give minimum 3 slots for each intent. Create a different *.dat* file for each slot under the **Slots folder** (Hint: You can use the same slots which was created for Alexa chatbot)\n",
        "\n",
        "   * Conﬁgure *params.cfg* ﬁle for the skill given to you under the **params folder**. Setup the intents in the same file with its required elements like Parameters, actions, etc. Refer to Zodiac Sign files for more information.\n",
        "\n",
        "**Task2 (2Marks)** - Create a database for the intent with all possible combinations of all attributes (can be a CSV ﬁle) along with possible outcome for each combination. Minimum 10 combinations. (Hint: You can use the same database which was created for Alexa chatbot)\n",
        "\n",
        "  * Create a CSV file for the allocated intent other than Zodiac sign\n",
        "\n",
        "**Task3 (5Marks)** - Text Representation and Classifications for both the intents\n",
        "\n",
        "* Create a numerical representation of the text data (utterances) by using **any one** of the following process:\n",
        "\n",
        "  - [Countvectorizer](https://scikit-learn.org/stable/modules/generated/sklearn.feature_extraction.text.CountVectorizer.html)\n",
        "\n",
        "    OR\n",
        "\n",
        "  - [TFIDFVectorizer](https://scikit-learn.org/stable/modules/generated/sklearn.feature_extraction.text.TfidfVectorizer.html)\n",
        "\n",
        "* Perform a classification using the extracted features and classify the intent.\n",
        "\n",
        "**Task4 (4Marks)** - Compare the attributes with the CSV file and get the final selection of that particular intent.\n",
        "\n",
        "* Action function for the zodiac sign is already given. Similarly create action function for your intent and give the function name as mentioned in the params.cfg file.\n",
        "\n",
        "**Task5 (3Marks)** - Run and test the Python chatbot for both the intents with the following:\n",
        "  - Python Chatbot should identify the user requirement.\n",
        "  - Gather the data from user input and get the relevant output.\n",
        "  - It should prompt the user with different prompts if the required input is not fulfilled.\n",
        "  - It should shift between the intents and maintain the dialogue flow."
      ]
    },
    {
      "cell_type": "markdown",
      "metadata": {
        "id": "48cT_Ybr818p"
      },
      "source": [
        "### Below is the code for updating the Python Chatbot"
      ]
    },
    {
      "cell_type": "code",
      "metadata": {
        "id": "G3yu1dJGBnbe",
        "cellView": "form",
        "outputId": "5f9f1adf-0c40-4aa5-b20f-833455454a1c",
        "colab": {
          "base_uri": "https://localhost:8080/"
        }
      },
      "source": [
        "#@title Run this cell to download the data\n",
        "!wget -qq https://cdn.iiith.talentsprint.com/aiml/Hackathon_data/Chatbot_Hackathon.zip\n",
        "!unzip -qq Chatbot_Hackathon.zip\n",
        "print(\"Data downloaded successfully\")"
      ],
      "execution_count": null,
      "outputs": [
        {
          "output_type": "stream",
          "name": "stdout",
          "text": [
            "replace Chatbot/params/params.cfg? [y]es, [n]o, [A]ll, [N]one, [r]ename: Data downloaded successfully\n"
          ]
        }
      ]
    },
    {
      "cell_type": "code",
      "metadata": {
        "id": "tpZ-i7ndxPzU"
      },
      "source": [
        "# Import Libraries\n",
        "import json\n",
        "import random\n",
        "import os\n",
        "import re\n",
        "import datetime\n",
        "import pandas as pd\n",
        "import numpy as np\n",
        "from sklearn.feature_extraction.text import TfidfVectorizer\n",
        "from sklearn.feature_extraction.text import CountVectorizer\n",
        "\n",
        "# Importing context and .py script files\n",
        "from Context import *\n",
        "from Intent import *"
      ],
      "execution_count": null,
      "outputs": []
    },
    {
      "cell_type": "markdown",
      "metadata": {
        "id": "lR6rVhnwDQVd"
      },
      "source": [
        "### Chatbot Architecture"
      ]
    },
    {
      "cell_type": "markdown",
      "metadata": {
        "id": "WSwQI3v0H6kR"
      },
      "source": [
        "Defining functions for Loading Intent, Collecting params, Checking actions, Getting Attributes and Identifying Intents"
      ]
    },
    {
      "cell_type": "code",
      "metadata": {
        "id": "v9CMK_7tdbac"
      },
      "source": [
        "def loadIntent(path, intent):\n",
        "    # print(\"Session is : \", session.attributes)\n",
        "    with open(path) as fil:\n",
        "        dat = json.load(fil)\n",
        "        intent = dat[intent]\n",
        "        return Intent(intent['intentname'],intent['Parameters'], intent['actions'])\n",
        "\n",
        "def check_required_params(current_intent, attributes, context):\n",
        "    '''Collects attributes pertaining to the current intent'''\n",
        "    for para in current_intent.params:\n",
        "        if para.required:\n",
        "            if para.name not in attributes:\n",
        "                return random.choice(para.prompts), context\n",
        "    return None, context\n",
        "\n",
        "def check_actions(current_intent, attributes, context):\n",
        "    '''This function performs the action for the intent as mentioned\n",
        "    in the intent config file. Performs actions pertaining to current intent '''\n",
        "    context = IntentComplete()\n",
        "    if current_intent.action.endswith('()'):\n",
        "        return eval(current_intent.action), context\n",
        "    return current_intent.action, context\n",
        "\n",
        "def getattributes(uinput,context,attributes, intent):\n",
        "    '''This function marks the slots in user input, and updates\n",
        "    the attributes dictionary'''\n",
        "    uinput = \" \"+uinput.lower()+\" \"\n",
        "    if context.name.startswith('IntentComplete'):\n",
        "        return attributes, uinput\n",
        "    else:\n",
        "        files = os.listdir(path_slots)\n",
        "        slots = {}\n",
        "        for fil in files:\n",
        "            if fil == \".ipynb_checkpoints\":\n",
        "                continue\n",
        "            lines = open(path_slots+fil).readlines()\n",
        "            for i, line in enumerate(lines):\n",
        "                line = line.strip()\n",
        "                if len(uinput.split(\" \"+line.lower()+\" \")) > 1:\n",
        "                    slots[line] = fil[:-4]\n",
        "        for value, slot in slots.items():\n",
        "            if intent != None and slot in \" \".join([param.name for param in intent.params]):\n",
        "                uinput = re.sub(value,r'$'+slot,uinput,flags=re.IGNORECASE)\n",
        "                attributes[slot] = value\n",
        "            else:\n",
        "                uinput = re.sub(value,r'$'+slot,uinput,flags=re.IGNORECASE)\n",
        "                attributes[slot] = value\n",
        "        return attributes, uinput\n",
        "\n",
        "def input_processor(user_input, context, attributes, intent):\n",
        "    '''Update the attributes, abstract over the slots in user input'''\n",
        "    attributes, cleaned_input = getattributes(user_input, context, attributes, intent)\n",
        "    return attributes, cleaned_input\n",
        "\n",
        "def intentIdentifier(clean_input, context,current_intent):\n",
        "    clean_input = clean_input.lower()\n",
        "    if (current_intent==None):\n",
        "        return loadIntent(path_param,intentPredict(clean_input))\n",
        "    else:\n",
        "        #If current intent is not none, stick with the ongoing intent\n",
        "        #return current_intent\n",
        "        intent = loadIntent(path_param,intentPredict(clean_input))\n",
        "        if current_intent != intent:\n",
        "            for para in current_intent.params:\n",
        "                if para.name in clean_input:\n",
        "                    return current_intent\n",
        "        return loadIntent(path_param,intentPredict(clean_input))"
      ],
      "execution_count": null,
      "outputs": []
    },
    {
      "cell_type": "markdown",
      "metadata": {
        "id": "V9fHBxSLtsXJ"
      },
      "source": [
        "Session class is one active session of the chatbot which the user interacts with. Let's go into the details:\n",
        "\n",
        "**reply( )** is the important one in our session object it takes user_input as a parameter and calls different modules of the chatbot architecture:\n",
        "\n",
        "\n",
        "*   **input_processor( )** - It helps in preprocessing and fetching the slots that can identify in the ready state\n",
        "    \n",
        "    - **getattributes( )** - It helps in identifying all the slots in the user utterance. Identify and map them to the parameters\n",
        "    \n",
        "    \n",
        "*   **intentIdentifier( )**\n",
        "\n",
        "  -  **intentPredict()** - Task to complete\n",
        "\n",
        "*   **check_required_params( )** - Based on the current intents, it goes over it's parameters\n",
        "\n",
        "*   **check_actions( )** - This function performs the action for the intent\n",
        "\n",
        "**Note:** Refer the *Chatbot_Reading_Material.pdf* for more information on the conversation flow\n",
        "\n",
        "\n",
        "       \n"
      ]
    },
    {
      "cell_type": "code",
      "metadata": {
        "id": "x5ZB31PKE1zd"
      },
      "source": [
        "class Session:\n",
        "    def __init__(self, attributes=None, active_contexts=[FirstGreeting(), IntentComplete() ]):\n",
        "        '''Initialise a default session'''\n",
        "        # Active contexts not used yet, can use it to have multiple contexts\n",
        "        self.active_contexts = active_contexts\n",
        "\n",
        "        # Contexts are flags which control dialogue flow\n",
        "        self.context = FirstGreeting()\n",
        "\n",
        "        # Intent tracks the current state of dialogue\n",
        "        self.current_intent = None\n",
        "\n",
        "        # attributes hold the information collected over the conversation\n",
        "        self.attributes = {}\n",
        "\n",
        "    def reply(self, user_input):\n",
        "        '''Generate response to user input'''\n",
        "        self.attributes, clean_input = input_processor(user_input, self.context, self.attributes, self.current_intent)\n",
        "\n",
        "        self.current_intent = intentIdentifier(clean_input, self.context, self.current_intent)\n",
        "\n",
        "        prompt, self.context = check_required_params(self.current_intent, self.attributes, self.context)\n",
        "\n",
        "        # prompt being None means all parameters satisfied, perform the intent action\n",
        "        if prompt is None and self.context.name!='IntentComplete':\n",
        "            prompt, self.context = check_actions(self.current_intent, self.attributes, self.context)\n",
        "\n",
        "            # print(\"Session is : \", self.attributes)\n",
        "        # Resets the state after the Intent is complete\n",
        "        # if self.context.name=='IntentComplete':\n",
        "        #     self.attributes = {}\n",
        "        #     self.context = FirstGreeting()\n",
        "        #     self.current_intent = None\n",
        "        return prompt, self.attributes"
      ],
      "execution_count": null,
      "outputs": []
    },
    {
      "cell_type": "markdown",
      "metadata": {
        "id": "ztNFwTl_clJD"
      },
      "source": [
        "### Task1 (6Marks)\n",
        "\n",
        "Create .dat files for your intent based on the team allocation. Also, configure file in the params folder (Refer the given zodiac sign file for more information).\n",
        "\n",
        "   * Give minimum 50 utterances for each intent. You can use the same utterances which were created for Alexa chatbot. Give the details in the **intent folder** -> *intent_name.dat* file\n",
        "\n",
        "   * Give minimum 3 slots for each intent. You can use the same slots which were created for Alexa chatbot. Create a different *.dat* file for each slot under the **Slots folder**\n",
        "\n",
        "   * Conﬁgure *params.cfg* ﬁle for the skill given to you under the **params folder**. Setup the intents in the same file with its required elements like Parameters, actions, etc. Refer to Zodiac Sign file for more information.\n",
        "\n",
        "Once dat files are created, you can upload them in colab as path details given in the below code"
      ]
    },
    {
      "cell_type": "code",
      "metadata": {
        "id": "aM7DzOSxQTOh"
      },
      "source": [
        "path_param = 'Chatbot/params/params.cfg'\n",
        "path_utterances = 'Chatbot/utterances/'\n",
        "path_slots = 'Chatbot/slots/'"
      ],
      "execution_count": null,
      "outputs": []
    },
    {
      "cell_type": "markdown",
      "metadata": {
        "id": "qTLngIU1AWkO"
      },
      "source": [
        "### Task2 (2Marks)\n",
        "\n",
        "Create a database with all possible combinations of all attributes (can be a CSV ﬁle) along with possible outcome for each combination for your intent. Provide at least 10 combinations. (Hint: You can use the same database which was created for Alexa chatbot)\n",
        "\n",
        "  * Create a CSV file for the allocated intent other than Zodiac sign.\n",
        "\n",
        "Upload the file and give the path in the below code"
      ]
    },
    {
      "cell_type": "code",
      "metadata": {
        "id": "EyzMvRbPAil_"
      },
      "source": [
        "path_csv_zodiac = 'Chatbot/Zodiac_sign.csv'\n",
        "\n",
        "# YOUR CODE HERE for updating the path of csv file\n",
        "path_csv_books = 'Chatbot/BookRecommendation.csv'"
      ],
      "execution_count": null,
      "outputs": []
    },
    {
      "cell_type": "markdown",
      "metadata": {
        "id": "pjQr5bPZ3j40"
      },
      "source": [
        "### Task3 (5Marks)\n",
        "Text Representation and Classifications for both the intents\n",
        "\n",
        "To classify the intents based on user input, model must be trained on all the utterances given.\n",
        "- Iterate through the files from folder of utterances which ends with `.dat` extension\n",
        "- Create an array of train data and labels with respective class names (intent names)\n",
        "- Create a vector representation of train data (utterances) by using **any one** of the following process for the task:\n",
        "\n",
        "  - [Countvectorizer](https://scikit-learn.org/stable/modules/generated/sklearn.feature_extraction.text.CountVectorizer.html)\n",
        "\n",
        "    OR\n",
        "\n",
        "  - [TFIDFVectorizer](https://scikit-learn.org/stable/modules/generated/sklearn.feature_extraction.text.TfidfVectorizer.html)\n",
        "\n",
        "- Perform a classification using the extracted features and classify the intent.\n",
        "    - ### **Expected Accuracy above 90%**\n",
        "\n",
        "- Predict the user_input using the trained model using intent_predict() method"
      ]
    },
    {
      "cell_type": "markdown",
      "metadata": {
        "id": "oiW8ZtRZExNV"
      },
      "source": [
        "**Data Loading:** Read all the utterances and extract the data (text) and labels for each intent."
      ]
    },
    {
      "cell_type": "code",
      "metadata": {
        "id": "Mq6rSmdnFzss",
        "colab": {
          "base_uri": "https://localhost:8080/",
          "height": 206
        },
        "outputId": "90bf54bb-31ee-4bae-c9f3-a2572f0ef3d8"
      },
      "source": [
        "# YOUR CODE HERE for loading and preparing the data\n",
        "import pandas as pd\n",
        "df_Zodiac = pd.read_csv('Chatbot/utterances/get_Zodiac_Sign.dat')\n",
        "# add header\n",
        "df_Zodiac.columns = [\"text\"]\n",
        "df_Zodiac[\"Target\"] = 1\n",
        "df_Zodiac.head()\n",
        "\n",
        "df_book = pd.read_csv('Chatbot/utterances/get_CaptureBookSuggestIntent.dat')\n",
        "df_book.columns = [\"text\"]\n",
        "df_book[\"Target\"] = 0\n",
        "df_book.head()\n",
        "\n",
        "df_total = pd.concat([df_Zodiac, df_book])\n",
        "df_total.head()"
      ],
      "execution_count": null,
      "outputs": [
        {
          "output_type": "execute_result",
          "data": {
            "text/plain": [
              "                                 text  Target\n",
              "0                  get my zodiac sign       1\n",
              "1     find out what my zodiac sign is       1\n",
              "2  do you know what my zodiac sign is       1\n",
              "3                         zodiac sign       1\n",
              "4         want to know my zodiac sign       1"
            ],
            "text/html": [
              "\n",
              "  <div id=\"df-e1617e5d-7ba6-4780-81d7-eb5a9e852d35\" class=\"colab-df-container\">\n",
              "    <div>\n",
              "<style scoped>\n",
              "    .dataframe tbody tr th:only-of-type {\n",
              "        vertical-align: middle;\n",
              "    }\n",
              "\n",
              "    .dataframe tbody tr th {\n",
              "        vertical-align: top;\n",
              "    }\n",
              "\n",
              "    .dataframe thead th {\n",
              "        text-align: right;\n",
              "    }\n",
              "</style>\n",
              "<table border=\"1\" class=\"dataframe\">\n",
              "  <thead>\n",
              "    <tr style=\"text-align: right;\">\n",
              "      <th></th>\n",
              "      <th>text</th>\n",
              "      <th>Target</th>\n",
              "    </tr>\n",
              "  </thead>\n",
              "  <tbody>\n",
              "    <tr>\n",
              "      <th>0</th>\n",
              "      <td>get my zodiac sign</td>\n",
              "      <td>1</td>\n",
              "    </tr>\n",
              "    <tr>\n",
              "      <th>1</th>\n",
              "      <td>find out what my zodiac sign is</td>\n",
              "      <td>1</td>\n",
              "    </tr>\n",
              "    <tr>\n",
              "      <th>2</th>\n",
              "      <td>do you know what my zodiac sign is</td>\n",
              "      <td>1</td>\n",
              "    </tr>\n",
              "    <tr>\n",
              "      <th>3</th>\n",
              "      <td>zodiac sign</td>\n",
              "      <td>1</td>\n",
              "    </tr>\n",
              "    <tr>\n",
              "      <th>4</th>\n",
              "      <td>want to know my zodiac sign</td>\n",
              "      <td>1</td>\n",
              "    </tr>\n",
              "  </tbody>\n",
              "</table>\n",
              "</div>\n",
              "    <div class=\"colab-df-buttons\">\n",
              "\n",
              "  <div class=\"colab-df-container\">\n",
              "    <button class=\"colab-df-convert\" onclick=\"convertToInteractive('df-e1617e5d-7ba6-4780-81d7-eb5a9e852d35')\"\n",
              "            title=\"Convert this dataframe to an interactive table.\"\n",
              "            style=\"display:none;\">\n",
              "\n",
              "  <svg xmlns=\"http://www.w3.org/2000/svg\" height=\"24px\" viewBox=\"0 -960 960 960\">\n",
              "    <path d=\"M120-120v-720h720v720H120Zm60-500h600v-160H180v160Zm220 220h160v-160H400v160Zm0 220h160v-160H400v160ZM180-400h160v-160H180v160Zm440 0h160v-160H620v160ZM180-180h160v-160H180v160Zm440 0h160v-160H620v160Z\"/>\n",
              "  </svg>\n",
              "    </button>\n",
              "\n",
              "  <style>\n",
              "    .colab-df-container {\n",
              "      display:flex;\n",
              "      gap: 12px;\n",
              "    }\n",
              "\n",
              "    .colab-df-convert {\n",
              "      background-color: #E8F0FE;\n",
              "      border: none;\n",
              "      border-radius: 50%;\n",
              "      cursor: pointer;\n",
              "      display: none;\n",
              "      fill: #1967D2;\n",
              "      height: 32px;\n",
              "      padding: 0 0 0 0;\n",
              "      width: 32px;\n",
              "    }\n",
              "\n",
              "    .colab-df-convert:hover {\n",
              "      background-color: #E2EBFA;\n",
              "      box-shadow: 0px 1px 2px rgba(60, 64, 67, 0.3), 0px 1px 3px 1px rgba(60, 64, 67, 0.15);\n",
              "      fill: #174EA6;\n",
              "    }\n",
              "\n",
              "    .colab-df-buttons div {\n",
              "      margin-bottom: 4px;\n",
              "    }\n",
              "\n",
              "    [theme=dark] .colab-df-convert {\n",
              "      background-color: #3B4455;\n",
              "      fill: #D2E3FC;\n",
              "    }\n",
              "\n",
              "    [theme=dark] .colab-df-convert:hover {\n",
              "      background-color: #434B5C;\n",
              "      box-shadow: 0px 1px 3px 1px rgba(0, 0, 0, 0.15);\n",
              "      filter: drop-shadow(0px 1px 2px rgba(0, 0, 0, 0.3));\n",
              "      fill: #FFFFFF;\n",
              "    }\n",
              "  </style>\n",
              "\n",
              "    <script>\n",
              "      const buttonEl =\n",
              "        document.querySelector('#df-e1617e5d-7ba6-4780-81d7-eb5a9e852d35 button.colab-df-convert');\n",
              "      buttonEl.style.display =\n",
              "        google.colab.kernel.accessAllowed ? 'block' : 'none';\n",
              "\n",
              "      async function convertToInteractive(key) {\n",
              "        const element = document.querySelector('#df-e1617e5d-7ba6-4780-81d7-eb5a9e852d35');\n",
              "        const dataTable =\n",
              "          await google.colab.kernel.invokeFunction('convertToInteractive',\n",
              "                                                    [key], {});\n",
              "        if (!dataTable) return;\n",
              "\n",
              "        const docLinkHtml = 'Like what you see? Visit the ' +\n",
              "          '<a target=\"_blank\" href=https://colab.research.google.com/notebooks/data_table.ipynb>data table notebook</a>'\n",
              "          + ' to learn more about interactive tables.';\n",
              "        element.innerHTML = '';\n",
              "        dataTable['output_type'] = 'display_data';\n",
              "        await google.colab.output.renderOutput(dataTable, element);\n",
              "        const docLink = document.createElement('div');\n",
              "        docLink.innerHTML = docLinkHtml;\n",
              "        element.appendChild(docLink);\n",
              "      }\n",
              "    </script>\n",
              "  </div>\n",
              "\n",
              "\n",
              "<div id=\"df-6928bbd2-7453-45e8-be55-f101b61d3454\">\n",
              "  <button class=\"colab-df-quickchart\" onclick=\"quickchart('df-6928bbd2-7453-45e8-be55-f101b61d3454')\"\n",
              "            title=\"Suggest charts\"\n",
              "            style=\"display:none;\">\n",
              "\n",
              "<svg xmlns=\"http://www.w3.org/2000/svg\" height=\"24px\"viewBox=\"0 0 24 24\"\n",
              "     width=\"24px\">\n",
              "    <g>\n",
              "        <path d=\"M19 3H5c-1.1 0-2 .9-2 2v14c0 1.1.9 2 2 2h14c1.1 0 2-.9 2-2V5c0-1.1-.9-2-2-2zM9 17H7v-7h2v7zm4 0h-2V7h2v10zm4 0h-2v-4h2v4z\"/>\n",
              "    </g>\n",
              "</svg>\n",
              "  </button>\n",
              "\n",
              "<style>\n",
              "  .colab-df-quickchart {\n",
              "      --bg-color: #E8F0FE;\n",
              "      --fill-color: #1967D2;\n",
              "      --hover-bg-color: #E2EBFA;\n",
              "      --hover-fill-color: #174EA6;\n",
              "      --disabled-fill-color: #AAA;\n",
              "      --disabled-bg-color: #DDD;\n",
              "  }\n",
              "\n",
              "  [theme=dark] .colab-df-quickchart {\n",
              "      --bg-color: #3B4455;\n",
              "      --fill-color: #D2E3FC;\n",
              "      --hover-bg-color: #434B5C;\n",
              "      --hover-fill-color: #FFFFFF;\n",
              "      --disabled-bg-color: #3B4455;\n",
              "      --disabled-fill-color: #666;\n",
              "  }\n",
              "\n",
              "  .colab-df-quickchart {\n",
              "    background-color: var(--bg-color);\n",
              "    border: none;\n",
              "    border-radius: 50%;\n",
              "    cursor: pointer;\n",
              "    display: none;\n",
              "    fill: var(--fill-color);\n",
              "    height: 32px;\n",
              "    padding: 0;\n",
              "    width: 32px;\n",
              "  }\n",
              "\n",
              "  .colab-df-quickchart:hover {\n",
              "    background-color: var(--hover-bg-color);\n",
              "    box-shadow: 0 1px 2px rgba(60, 64, 67, 0.3), 0 1px 3px 1px rgba(60, 64, 67, 0.15);\n",
              "    fill: var(--button-hover-fill-color);\n",
              "  }\n",
              "\n",
              "  .colab-df-quickchart-complete:disabled,\n",
              "  .colab-df-quickchart-complete:disabled:hover {\n",
              "    background-color: var(--disabled-bg-color);\n",
              "    fill: var(--disabled-fill-color);\n",
              "    box-shadow: none;\n",
              "  }\n",
              "\n",
              "  .colab-df-spinner {\n",
              "    border: 2px solid var(--fill-color);\n",
              "    border-color: transparent;\n",
              "    border-bottom-color: var(--fill-color);\n",
              "    animation:\n",
              "      spin 1s steps(1) infinite;\n",
              "  }\n",
              "\n",
              "  @keyframes spin {\n",
              "    0% {\n",
              "      border-color: transparent;\n",
              "      border-bottom-color: var(--fill-color);\n",
              "      border-left-color: var(--fill-color);\n",
              "    }\n",
              "    20% {\n",
              "      border-color: transparent;\n",
              "      border-left-color: var(--fill-color);\n",
              "      border-top-color: var(--fill-color);\n",
              "    }\n",
              "    30% {\n",
              "      border-color: transparent;\n",
              "      border-left-color: var(--fill-color);\n",
              "      border-top-color: var(--fill-color);\n",
              "      border-right-color: var(--fill-color);\n",
              "    }\n",
              "    40% {\n",
              "      border-color: transparent;\n",
              "      border-right-color: var(--fill-color);\n",
              "      border-top-color: var(--fill-color);\n",
              "    }\n",
              "    60% {\n",
              "      border-color: transparent;\n",
              "      border-right-color: var(--fill-color);\n",
              "    }\n",
              "    80% {\n",
              "      border-color: transparent;\n",
              "      border-right-color: var(--fill-color);\n",
              "      border-bottom-color: var(--fill-color);\n",
              "    }\n",
              "    90% {\n",
              "      border-color: transparent;\n",
              "      border-bottom-color: var(--fill-color);\n",
              "    }\n",
              "  }\n",
              "</style>\n",
              "\n",
              "  <script>\n",
              "    async function quickchart(key) {\n",
              "      const quickchartButtonEl =\n",
              "        document.querySelector('#' + key + ' button');\n",
              "      quickchartButtonEl.disabled = true;  // To prevent multiple clicks.\n",
              "      quickchartButtonEl.classList.add('colab-df-spinner');\n",
              "      try {\n",
              "        const charts = await google.colab.kernel.invokeFunction(\n",
              "            'suggestCharts', [key], {});\n",
              "      } catch (error) {\n",
              "        console.error('Error during call to suggestCharts:', error);\n",
              "      }\n",
              "      quickchartButtonEl.classList.remove('colab-df-spinner');\n",
              "      quickchartButtonEl.classList.add('colab-df-quickchart-complete');\n",
              "    }\n",
              "    (() => {\n",
              "      let quickchartButtonEl =\n",
              "        document.querySelector('#df-6928bbd2-7453-45e8-be55-f101b61d3454 button');\n",
              "      quickchartButtonEl.style.display =\n",
              "        google.colab.kernel.accessAllowed ? 'block' : 'none';\n",
              "    })();\n",
              "  </script>\n",
              "</div>\n",
              "\n",
              "    </div>\n",
              "  </div>\n"
            ],
            "application/vnd.google.colaboratory.intrinsic+json": {
              "type": "dataframe",
              "variable_name": "df_total",
              "summary": "{\n  \"name\": \"df_total\",\n  \"rows\": 103,\n  \"fields\": [\n    {\n      \"column\": \"text\",\n      \"properties\": {\n        \"dtype\": \"string\",\n        \"num_unique_values\": 100,\n        \"samples\": [\n          \"can you tell some books in $author author\",\n          \"books in author $author language $language and genre $genre\",\n          \"$author $language\"\n        ],\n        \"semantic_type\": \"\",\n        \"description\": \"\"\n      }\n    },\n    {\n      \"column\": \"Target\",\n      \"properties\": {\n        \"dtype\": \"number\",\n        \"std\": 0,\n        \"min\": 0,\n        \"max\": 1,\n        \"num_unique_values\": 2,\n        \"samples\": [\n          0,\n          1\n        ],\n        \"semantic_type\": \"\",\n        \"description\": \"\"\n      }\n    }\n  ]\n}"
            }
          },
          "metadata": {},
          "execution_count": 158
        }
      ]
    },
    {
      "cell_type": "markdown",
      "metadata": {
        "id": "7bT8oZHnF-TT"
      },
      "source": [
        "**Features extraction:** Fit the extracted text data with vectorizer to get the features."
      ]
    },
    {
      "cell_type": "code",
      "metadata": {
        "id": "SjopuMddGHc9",
        "colab": {
          "base_uri": "https://localhost:8080/"
        },
        "outputId": "f48f2845-6f5e-4272-dd7e-1048e6c46e67"
      },
      "source": [
        "# YOUR CODE HERE to extract the features\n",
        "#Apply TF-IDF on df\n",
        "vectorizer = TfidfVectorizer()\n",
        "X = vectorizer.fit_transform(df_total['text'])\n",
        "y = df_total['Target']\n",
        "\n",
        "# train test split\n",
        "from sklearn.model_selection import train_test_split\n",
        "X_train, X_test, y_train, y_test = train_test_split(X, y, test_size=0.20, random_state=42)\n",
        "\n",
        "#Apply SVM Model\n",
        "from sklearn.svm import SVC\n",
        "model = SVC(kernel='linear')\n",
        "model.fit(X_train,y_train)\n",
        "# print(\"Test array    : \",   y_test.to_numpy())\n",
        "# print(\"Prediction is : \",model.predict(X_test))\n",
        "print(model.score(X_test,y_test))"
      ],
      "execution_count": null,
      "outputs": [
        {
          "output_type": "stream",
          "name": "stdout",
          "text": [
            "1.0\n"
          ]
        }
      ]
    },
    {
      "cell_type": "markdown",
      "metadata": {
        "id": "I-Og4IX5ZYRm"
      },
      "source": [
        "**Classification:**\n",
        "\n",
        "* Identify the features and labels\n",
        "* Use train_test_split for splitting the train and test data\n",
        "* Fit your model on the train set using fit() and perform prediction on the test set using predict()\n",
        "* Get the accuracy of the model\n",
        "\n",
        "        Expected Accuracy above 90%\n"
      ]
    },
    {
      "cell_type": "code",
      "metadata": {
        "id": "MrGHpAqgMp07"
      },
      "source": [
        "# YOUR CODE HERE for classifying the intent"
      ],
      "execution_count": null,
      "outputs": []
    },
    {
      "cell_type": "markdown",
      "metadata": {
        "id": "UMddI6OZTSdL"
      },
      "source": [
        "Predict the user_input using the trained model\n",
        "\n",
        "**Note:** intentPredict() function call is specified in the Conversation Flow\n",
        "- vectorize the given user_input\n",
        "- reshape the vectorized array using `reshape(1,-1)` as the user_input is only a single utterance\n",
        "- predict the label on the vectorized array\n",
        "- return the respective class (intent_name)"
      ]
    },
    {
      "cell_type": "code",
      "metadata": {
        "id": "oaGk1MLg5E-k"
      },
      "source": [
        "# Take the user input as test data and predict using the model.\n",
        "\n",
        "# def intentPredict(user_input):  # Do not change the function name\n",
        "#     # YOUR CODE HERE for the prediction\n",
        "#     user_input_vector = vectorizer.transform([user_input])\n",
        "#     predicted_intent = model.predict(user_input_vector.reshape(1,-1))\n",
        "#     # print(\"predicted_intent\", predicted_intent[0])\n",
        "#     if predicted_intent[0] == 0:\n",
        "#         return \"get_Zodiac_Sign\"\n",
        "#     else:\n",
        "#         return \"suggest_book\""
      ],
      "execution_count": null,
      "outputs": []
    },
    {
      "cell_type": "code",
      "source": [
        "def intentPredict(user_input):  # Do not change the function name\n",
        "# check if intent is already there - then return the same intent\n",
        "    # print(\"inside intentPredict : session.attribute : \", session.attributes)\n",
        "    try:\n",
        "      if session.attributes['my_intent']:\n",
        "        return session.attributes['my_intent']\n",
        "    except:\n",
        "      pass\n",
        "\n",
        "    # YOUR CODE HERE for the prediction\n",
        "    # Vectorize the user input using the existing vectorizer\n",
        "    # print(\"Inside intentPredict with input = \",user_input)\n",
        "    vectorized_input = vectorizer.transform([user_input])\n",
        "    # Reshape the vectorized array\n",
        "    reshaped_input = vectorized_input.reshape(1, -1)\n",
        "    # Predict the label using the existing model\n",
        "    prediction = model.predict(reshaped_input)\n",
        "    # print(\"Inside intentPredict prediction is  = \",prediction)\n",
        "    # Return the predicted intent class (intent_name)\n",
        "    intent_name = prediction[0]  # Assuming prediction is an array\n",
        "    # print(\"Inside intentPredict intent_name is  = \",intent_name)\n",
        "    #print(intent_name)\n",
        "    if intent_name == 0:\n",
        "      predicted_intent = 'get_CaptureBookSuggestIntent'\n",
        "    else:\n",
        "      predicted_intent = 'get_Zodiac_Sign'\n",
        "    # print(\"predicted_intent inside method : \",predicted_intent)\n",
        "    session.attributes['my_intent'] = predicted_intent\n",
        "    # print(\"session attribute inside predicted_intent inside method : \",session.attributes)\n",
        "    return predicted_intent"
      ],
      "metadata": {
        "id": "Vlm7aLXpsJWE"
      },
      "execution_count": null,
      "outputs": []
    },
    {
      "cell_type": "markdown",
      "metadata": {
        "id": "1EuAOMEtbB35"
      },
      "source": [
        "### Task4 (4Marks):\n",
        "\n",
        "Compare the attributes with the CSV file and get the final selection of that particular intent.\n",
        "\n",
        "  * Action function for the zodiac sign is already given. Similarly create action function for your intents and give the function name as mentioned in the params.cfg file.\n",
        "  * Use session object to take user inputs. (ex: `session.attributes`)\n",
        "\n",
        "Below are the 2 action functions to be performed:\n",
        "  1. Zodiac Sign Action\n",
        "  2. Your allocated Intent Action"
      ]
    },
    {
      "cell_type": "markdown",
      "metadata": {
        "id": "ySQgq901aaCH"
      },
      "source": [
        "1. Below Action function is given for\n",
        "Zodiac_Sign intent"
      ]
    },
    {
      "cell_type": "code",
      "metadata": {
        "id": "RAucdXx3w0rt"
      },
      "source": [
        "# Note: Zodiac_sign.csv records are taken from the internet; however it is open to adding multiple records.\n",
        "\n",
        "# Performs action for zodiac sign with csv file as source\n",
        "def zodiacSign_Action():\n",
        "    # global session\n",
        "    attr = session.attributes\n",
        "    year = int(attr['year'])\n",
        "    month = attr['month'] # month is a string, convert it to a month index\n",
        "    day = int(attr['day'])\n",
        "    df = pd.read_csv(path_csv_zodiac)\n",
        "    zodiac = \"\"\n",
        "\n",
        "    try:\n",
        "        month = int(datetime.datetime.strptime(month,'%b').strftime('%m'))\n",
        "    except:\n",
        "        month = int(datetime.datetime.strptime(month,'%B').strftime('%m'))\n",
        "\n",
        "    try:\n",
        "        usr_dob = (month,day)\n",
        "        datetime.datetime(year, month, day)\n",
        "        for index, row in df.iterrows():\n",
        "          if filter(row['Start']) <= usr_dob <= filter(row['End']):\n",
        "            zodiac = row['Zodiac']\n",
        "        session.attributes['my_intent'] = ''\n",
        "        return \"Your Zodiac sign is \" + zodiac + \" . Please ask another query.\"\n",
        "    except ValueError:\n",
        "        return \"This is not a valid date\"\n",
        "\n",
        "def filter(X):\n",
        "    date = X.split()\n",
        "    month = int(datetime.datetime.strptime(date[0],'%B').strftime('%m'))\n",
        "    day = int(datetime.datetime.strptime(date[1],'%d').strftime('%d'))\n",
        "    return (month,day)"
      ],
      "execution_count": null,
      "outputs": []
    },
    {
      "cell_type": "markdown",
      "metadata": {
        "id": "ZmGzfjZxYeVl"
      },
      "source": [
        "2. Define Action function for your allocated Intent"
      ]
    },
    {
      "cell_type": "code",
      "metadata": {
        "id": "-i9fowgOY-Bb"
      },
      "source": [
        "# # YOUR CODE HERE: Define a function to perform action using CSV file\n",
        "# def captureBookSuggest():\n",
        "#   attr = session.attributes\n",
        "#   genre = attr['genre'].lower()\n",
        "#   author = attr['author'].lower()\n",
        "#   language = attr['language'].lower()\n",
        "#   df_raw = pd.read_csv(path_csv_books)\n",
        "#   the_book = \"\"\n",
        "#   filtered_df = df_raw[(df_raw['Genre'] == genre) & (df_raw['Author'] == author) & (df_raw['Language'] == language)]\n",
        "#   vals_books = filtered_df['BookName'].values\n",
        "#   # book_string = ''.join(map(str,vals_books))\n",
        "#   # print(\"book_string : \",book_string)\n",
        "#   if vals_books == \"\":\n",
        "#     the_book = \"No books found\"\n",
        "#   else:\n",
        "#     the_book = \"The book is \" + vals_books\n",
        "\n",
        "#   return the_book"
      ],
      "execution_count": null,
      "outputs": []
    },
    {
      "cell_type": "code",
      "source": [
        "#Second try\n",
        "# YOUR CODE HERE: Define a function to perform action using CSV file\n",
        "def captureBookSuggest():\n",
        "  attr = session.attributes\n",
        "  genre = attr['genre'].lower()\n",
        "  author = attr['author'].lower()\n",
        "  language = attr['language'].lower()\n",
        "  df_raw = pd.read_csv(path_csv_books)\n",
        "  the_book = \"\"\n",
        "  try:\n",
        "      filtered_df = df_raw[(df_raw['Genre'] == genre) & (df_raw['Author'] == author) & (df_raw['Language'] == language)]\n",
        "      vals_books = filtered_df['BookName'].values\n",
        "      vals_books = \",\".join(vals_books)\n",
        "      if vals_books != \"\":\n",
        "        the_book = vals_books\n",
        "        session.attributes['my_intent'] = ''\n",
        "      else:\n",
        "        the_book = \"No books found. Please ask another query.\"\n",
        "        session.attributes['my_intent'] = ''\n",
        "      # print(\"the_book return value : \",the_book)\n",
        "      return the_book\n",
        "  except ValueError:\n",
        "      # print(\"inside except for books\")\n",
        "      return \"No book found\""
      ],
      "metadata": {
        "id": "CHxtqWG51u3C"
      },
      "execution_count": null,
      "outputs": []
    },
    {
      "cell_type": "markdown",
      "metadata": {
        "id": "iJHrDux6Ho-K"
      },
      "source": [
        "### Task5 (3Marks)\n",
        "\n",
        "Run and test the Python chatbot for both the intents with the following:\n",
        "  - Python Chatbot should identify the user requirement.\n",
        "  - Gather the data from user input and get the relevant output.\n",
        "  - It should prompt the user with different prompts if the required input is not fulfilled.\n",
        "  - It should shift between the intents and maintain the dialogue flow."
      ]
    },
    {
      "cell_type": "markdown",
      "metadata": {
        "id": "-nzznhcEm-vO"
      },
      "source": [
        "Chatbot configuration class"
      ]
    },
    {
      "cell_type": "code",
      "metadata": {
        "id": "4S4rXiz9CQzo"
      },
      "source": [
        "class BOT_config():\n",
        "    def __init__(self, session):\n",
        "        self.welcome='BOT: Hi! Welcome to Talentsprint Hackathon, How may i assist you?'\n",
        "        self.exits=[\"finish\",\"exit\",\"end\",\"quit\",\"stop\",\"close\", \"Bye\"]\n",
        "        if session.context.name == 'IntentComplete':\n",
        "            session.attributes = {}\n",
        "            session.context = FirstGreeting()\n",
        "            session.current_intent = None"
      ],
      "execution_count": null,
      "outputs": []
    },
    {
      "cell_type": "markdown",
      "metadata": {
        "id": "eMHpVbnWnDo_"
      },
      "source": [
        "#### Conversational Chatbot\n",
        "\n",
        "Interact with bot by giving any utterance\n",
        "\n",
        "Ex:  `find zodiac sign`"
      ]
    },
    {
      "cell_type": "code",
      "source": [],
      "metadata": {
        "id": "vjPmpQD_4YOu"
      },
      "execution_count": null,
      "outputs": []
    },
    {
      "cell_type": "code",
      "metadata": {
        "id": "ycL4LskDEULN",
        "colab": {
          "base_uri": "https://localhost:8080/"
        },
        "outputId": "66060afb-eec9-4c4a-cc8d-a25927ce5fbf"
      },
      "source": [
        "session = Session()\n",
        "session.attributes['my_intent'] = ''\n",
        "print(BOT_config(session).welcome)\n",
        "# session.attributes = {}\n",
        "while (True):\n",
        "    inp = input('User: ')\n",
        "    if inp in BOT_config(session).exits:\n",
        "        break\n",
        "    prompt = session.reply(inp)\n",
        "    # print ('BOT:', prompt)\n",
        "    if session.attributes['my_intent']:\n",
        "      print ('BOT:', prompt[0])\n",
        "    else:\n",
        "      print ('BOT:', prompt[0])\n",
        "      print ('BOT: Thanks for utilizing the Bot.')\n",
        "      print(BOT_config(session).welcome)"
      ],
      "execution_count": null,
      "outputs": [
        {
          "name": "stdout",
          "output_type": "stream",
          "text": [
            "BOT: Hi! Welcome to Talentsprint Hackathon, How may i assist you?\n",
            "User: language is english\n",
            "BOT: What genre you are looking\n",
            "User: techno\n",
            "BOT: What author you are looking\n",
            "User: stephen edwin king\n",
            "BOT: Class 10,Python masteres\n",
            "BOT: Thanks for utilizing the Bot.\n",
            "BOT: Hi! Welcome to Talentsprint Hackathon, How may i assist you?\n",
            "User: language is arabic\n",
            "BOT: What genre you are looking\n",
            "User: horror\n",
            "BOT: What author you are looking\n",
            "User: stephen edwin king\n",
            "BOT: Strange Doctor\n",
            "BOT: Thanks for utilizing the Bot.\n",
            "BOT: Hi! Welcome to Talentsprint Hackathon, How may i assist you?\n",
            "User: zodiac\n",
            "BOT: I was born on 6th July when were you born\n",
            "User: 4\n",
            "BOT: In Which month you were born?\n",
            "User: Jun\n",
            "BOT: My birth year is 2020, what is yours?\n",
            "User: 2010\n",
            "BOT: Your Zodiac sign is Gemini . Please ask another query.\n",
            "BOT: Thanks for utilizing the Bot.\n",
            "BOT: Hi! Welcome to Talentsprint Hackathon, How may i assist you?\n",
            "User: language is arabic\n",
            "BOT: What genre you are looking\n",
            "User: mystery\n",
            "BOT: What author you are looking\n",
            "User: stephen edwin king\n",
            "BOT: No books found. Please ask another query.\n",
            "BOT: Thanks for utilizing the Bot.\n",
            "BOT: Hi! Welcome to Talentsprint Hackathon, How may i assist you?\n",
            "User: language is arabic\n",
            "BOT: What genre you are looking\n",
            "User: techno\n",
            "BOT: What author you are looking\n",
            "User: abc\n",
            "BOT: What author you are looking\n",
            "User: samuel langhorne clemens\n",
            "BOT: No books found. Please ask another query.\n",
            "BOT: Thanks for utilizing the Bot.\n",
            "BOT: Hi! Welcome to Talentsprint Hackathon, How may i assist you?\n",
            "User: samuel langhorne clemens\n",
            "BOT: What genre you are looking\n",
            "User: techno\n",
            "BOT: What language you are looking\n",
            "User: punjabi\n",
            "BOT: Web Developmemt\n",
            "BOT: Thanks for utilizing the Bot.\n",
            "BOT: Hi! Welcome to Talentsprint Hackathon, How may i assist you?\n",
            "User: exit\n"
          ]
        }
      ]
    }
  ]
}